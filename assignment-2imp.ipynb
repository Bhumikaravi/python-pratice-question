{
 "cells": [
  {
   "cell_type": "code",
   "execution_count": 1,
   "id": "c342ee47-1b5e-4bbf-95d5-46236ee488fe",
   "metadata": {},
   "outputs": [
    {
     "name": "stdout",
     "output_type": "stream",
     "text": [
      "  1   2   3   4   5   6   7   8   9  10 \n",
      "  2   4   6   8  10  12  14  16  18  20 \n",
      "  3   6   9  12  15  18  21  24  27  30 \n",
      "  4   8  12  16  20  24  28  32  36  40 \n",
      "  5  10  15  20  25  30  35  40  45  50 \n",
      "  6  12  18  24  30  36  42  48  54  60 \n",
      "  7  14  21  28  35  42  49  56  63  70 \n",
      "  8  16  24  32  40  48  56  64  72  80 \n",
      "  9  18  27  36  45  54  63  72  81  90 \n",
      " 10  20  30  40  50  60  70  80  90 100 \n"
     ]
    }
   ],
   "source": [
    "for i in range(1,10+1):\n",
    "\n",
    "    for j in range(1,10+1):\n",
    "        print(f\"{i * j:3}\",end=\" \")\n",
    "    print()"
   ]
  },
  {
   "cell_type": "code",
   "execution_count": 5,
   "id": "694a6174-0086-4b04-b184-62681da3a1fb",
   "metadata": {},
   "outputs": [
    {
     "name": "stdout",
     "output_type": "stream",
     "text": [
      "* \n",
      "* * \n",
      "* * * \n",
      "* * * * \n",
      "* * * * * \n"
     ]
    }
   ],
   "source": [
    "# Question 1\n",
    "# Right-Angled Triangle\n",
    "n = 5\n",
    "for i in range(1, n + 1):\n",
    "    for j in range(1, i + 1):\n",
    "        print(\"*\", end=\" \")\n",
    "    print()  # Move to the next line"
   ]
  },
  {
   "cell_type": "code",
   "execution_count": 6,
   "id": "5e3ef3c0-b5e6-496b-a913-c351a355459a",
   "metadata": {},
   "outputs": [
    {
     "name": "stdout",
     "output_type": "stream",
     "text": [
      "* * * * * \n",
      "* * * * \n",
      "* * * \n",
      "* * \n",
      "* \n"
     ]
    }
   ],
   "source": [
    "# Question 2\n",
    "# Inverted Right-Angled Triangle\n",
    "n = 5\n",
    "\n",
    "for i in range(n, 0, -1):\n",
    "    for j in range(1, i + 1):\n",
    "        print(\"*\", end=\" \")\n",
    "    print()  # Move to the next line"
   ]
  },
  {
   "cell_type": "code",
   "execution_count": 7,
   "id": "7cf399fc-72bd-41f2-a102-93a554f3a06f",
   "metadata": {},
   "outputs": [
    {
     "name": "stdout",
     "output_type": "stream",
     "text": [
      "1 \n",
      "2 2 \n",
      "3 3 3 \n",
      "4 4 4 4 \n"
     ]
    }
   ],
   "source": [
    "# Question 3\n",
    "n=4\n",
    "for i in range(1,n+1):\n",
    "    for j in range(1,i+1):\n",
    "        print(i,end=\" \")\n",
    "    print()"
   ]
  },
  {
   "cell_type": "code",
   "execution_count": 8,
   "id": "2551e39c-2e57-4627-b3b4-f0c438a08a0d",
   "metadata": {},
   "outputs": [
    {
     "name": "stdin",
     "output_type": "stream",
     "text": [
      " 23\n"
     ]
    },
    {
     "name": "stdout",
     "output_type": "stream",
     "text": [
      "25852016738884976640000\n"
     ]
    }
   ],
   "source": [
    "#question 10\n",
    "a=int(input())\n",
    "fact = 1\n",
    "for i in range (1,a+1):\n",
    "    fact*=i\n",
    "print(fact)"
   ]
  },
  {
   "cell_type": "code",
   "execution_count": 11,
   "id": "b24a76cf-cab4-4f94-8a8e-f27ccf46c2bb",
   "metadata": {},
   "outputs": [
    {
     "name": "stdin",
     "output_type": "stream",
     "text": [
      " 10\n"
     ]
    },
    {
     "name": "stdout",
     "output_type": "stream",
     "text": [
      "30\n"
     ]
    }
   ],
   "source": [
    "n = int(input())\n",
    "sum = 0\n",
    "for i in range(2, n+1,2):\n",
    "    sum += i\n",
    "print(sum)"
   ]
  },
  {
   "cell_type": "code",
   "execution_count": 12,
   "id": "5658ccec-acf9-4675-90f2-75b0a23f6687",
   "metadata": {},
   "outputs": [
    {
     "name": "stdin",
     "output_type": "stream",
     "text": [
      " 50\n"
     ]
    },
    {
     "name": "stdout",
     "output_type": "stream",
     "text": [
      "2\n",
      "3\n",
      "5\n",
      "7\n",
      "11\n",
      "13\n",
      "17\n",
      "19\n",
      "23\n",
      "29\n",
      "31\n",
      "37\n",
      "41\n",
      "43\n",
      "47\n"
     ]
    }
   ],
   "source": [
    "n = int(input())\n",
    "for num in range(2, n + 1):\n",
    "    is_prime = True\n",
    "    for i in range(2, int(num ** 0.5) + 1):\n",
    "        if num % i == 0:\n",
    "            is_prime = False\n",
    "            break\n",
    "    if is_prime:\n",
    "        print(num)"
   ]
  },
  {
   "cell_type": "code",
   "execution_count": 13,
   "id": "aca72b37-f41f-4fb9-b184-63e427d7e63d",
   "metadata": {},
   "outputs": [
    {
     "name": "stdin",
     "output_type": "stream",
     "text": [
      " d\n"
     ]
    },
    {
     "name": "stdout",
     "output_type": "stream",
     "text": [
      "0\n"
     ]
    }
   ],
   "source": [
    "string = input()\n",
    "vowels = \"aeiouAEIOU\"\n",
    "count = 0\n",
    "for char in string:\n",
    "    if char in vowels:\n",
    "        count += 1\n",
    "print(count)"
   ]
  },
  {
   "cell_type": "code",
   "execution_count": 15,
   "id": "99e9fe1a-82c9-4d9d-a69b-5825d6a201d7",
   "metadata": {},
   "outputs": [
    {
     "name": "stdin",
     "output_type": "stream",
     "text": [
      " boo\n"
     ]
    },
    {
     "name": "stdout",
     "output_type": "stream",
     "text": [
      "oob\n"
     ]
    }
   ],
   "source": [
    "string = input()\n",
    "reversed_string = \"\"\n",
    "for char in string: \n",
    "    reversed_string = char + reversed_string\n",
    "print(reversed_string)"
   ]
  },
  {
   "cell_type": "code",
   "execution_count": 16,
   "id": "df48645e-6df8-4144-90db-140d4da12c8d",
   "metadata": {},
   "outputs": [
    {
     "name": "stdin",
     "output_type": "stream",
     "text": [
      " kavi\n"
     ]
    },
    {
     "name": "stdout",
     "output_type": "stream",
     "text": [
      "k\n",
      "ka\n",
      "kav\n",
      "kavi\n",
      "a\n",
      "av\n",
      "avi\n",
      "v\n",
      "vi\n",
      "i\n"
     ]
    }
   ],
   "source": [
    "string = input()\n",
    "for i in range(len(string)):\n",
    "    for j in range(i + 1, len(string) + 1):\n",
    "        print(string[i:j])"
   ]
  },
  {
   "cell_type": "code",
   "execution_count": 19,
   "id": "0bdb2793-4c5c-4b11-871d-de67b69a52ff",
   "metadata": {},
   "outputs": [
    {
     "name": "stdin",
     "output_type": "stream",
     "text": [
      "Enter the value of n:  6\n"
     ]
    },
    {
     "name": "stdout",
     "output_type": "stream",
     "text": [
      "1 2 3 4 5 6 \n",
      "2 4 6 8 10 12 \n",
      "3 6 9 12 15 18 \n",
      "4 8 12 16 20 24 \n",
      "5 10 15 20 25 30 \n",
      "6 12 18 24 30 36 \n"
     ]
    }
   ],
   "source": [
    "n = int(input(\"Enter the value of n: \"))\n",
    "for i in range(1, n+1):\n",
    "    for j in range(1, n+1):\n",
    "        print(i*j, end=\" \")\n",
    "    print()"
   ]
  },
  {
   "cell_type": "code",
   "execution_count": 20,
   "id": "8e44523e-488c-437a-a88b-3834060f478f",
   "metadata": {},
   "outputs": [
    {
     "name": "stdin",
     "output_type": "stream",
     "text": [
      "Enter the value of n:  5\n"
     ]
    },
    {
     "name": "stdout",
     "output_type": "stream",
     "text": [
      "1 2 3 4 5 \n",
      "6 7 8 9 10 \n",
      "11 12 13 14 15 \n",
      "16 17 18 19 20 \n",
      "21 22 23 24 25 \n"
     ]
    }
   ],
   "source": [
    "n = int(input(\"Enter the value of n: \"))\n",
    "num = 1\n",
    "for i in range(n):\n",
    "    for j in range(n):\n",
    "        print(num, end=\" \")\n",
    "        num += 1\n",
    "    print()"
   ]
  },
  {
   "cell_type": "code",
   "execution_count": 21,
   "id": "e447b364-5895-4c36-b7c3-e62fce750a46",
   "metadata": {},
   "outputs": [
    {
     "name": "stdin",
     "output_type": "stream",
     "text": [
      " 9\n"
     ]
    },
    {
     "name": "stdout",
     "output_type": "stream",
     "text": [
      "20\n"
     ]
    }
   ],
   "source": [
    "n = int(input())\n",
    "sum = 0\n",
    "for i in range(2, n+1,2):\n",
    "    sum += i\n",
    "print(sum) #1"
   ]
  },
  {
   "cell_type": "code",
   "execution_count": 22,
   "id": "9a97c11d-835b-4e4c-aa00-d675d2262e38",
   "metadata": {},
   "outputs": [
    {
     "name": "stdin",
     "output_type": "stream",
     "text": [
      "no. of rows 4\n"
     ]
    },
    {
     "name": "stdout",
     "output_type": "stream",
     "text": [
      "* \n",
      "* * \n",
      "* * * \n",
      "* * * * \n"
     ]
    }
   ],
   "source": [
    "n=int(input(\"no. of rows\"))\n",
    "for i in range(n):\n",
    "    for j in range(i+1):\n",
    "        print(\"*\",end=\" \")\n",
    "    print()"
   ]
  },
  {
   "cell_type": "code",
   "execution_count": 23,
   "id": "97514040-935c-4aa3-8d5a-8283fc0cea53",
   "metadata": {},
   "outputs": [
    {
     "name": "stdout",
     "output_type": "stream",
     "text": [
      "  * \n",
      " * * \n",
      "* * * \n",
      " * * \n",
      "  * \n",
      "   \n"
     ]
    }
   ],
   "source": [
    "for i in range(1,4):\n",
    "    for j in range (1,4-i):\n",
    "        print(end=\" \")\n",
    "    for j in range(1,i+1):\n",
    "      print(\"*\", end=\" \")\n",
    "    print()\n",
    "for i in range(1,4):\n",
    "    for j in range (1,i+1):\n",
    "        print(end=\" \")\n",
    "    for j in range(1,4-i):\n",
    "      print(\"*\", end=\" \")\n",
    "    print()\n",
    "\n"
   ]
  },
  {
   "cell_type": "code",
   "execution_count": 37,
   "id": "6c3de234-e699-455b-b1d7-5e6fe1b018c9",
   "metadata": {},
   "outputs": [
    {
     "name": "stdout",
     "output_type": "stream",
     "text": [
      "*****\n",
      "*   *\n",
      "*   *\n",
      "*   *\n",
      "*****\n"
     ]
    }
   ],
   "source": [
    "for i in range(5):\n",
    "    for j in range (5):\n",
    "       if(i==0 or i==4 or j==0 or j==4):\n",
    "         print(\"*\",end=\"\")\n",
    "       else:\n",
    "        print(\" \",end=\"\")\n",
    "    print()\n",
    "    "
   ]
  },
  {
   "cell_type": "code",
   "execution_count": 38,
   "id": "eeeb7dee-f521-4457-9166-0a21150f3fec",
   "metadata": {},
   "outputs": [
    {
     "name": "stdin",
     "output_type": "stream",
     "text": [
      " bhumi\n"
     ]
    },
    {
     "name": "stdout",
     "output_type": "stream",
     "text": [
      "b: 1\n",
      "h: 1\n",
      "u: 1\n",
      "m: 1\n",
      "i: 1\n"
     ]
    }
   ],
   "source": [
    "string = input()\n",
    "char_frequency = {}\n",
    "for char in string:\n",
    "    if char in char_frequency:\n",
    "        char_frequency[char] += 1\n",
    "    else:\n",
    "        char_frequency[char] = 1\n",
    "for char, freq in char_frequency.items():\n",
    "    print(f\"{char}: {freq}\")\n"
   ]
  },
  {
   "cell_type": "code",
   "execution_count": 2,
   "id": "d9ae9f98-3120-43ac-94d4-b6f364843892",
   "metadata": {},
   "outputs": [
    {
     "name": "stdin",
     "output_type": "stream",
     "text": [
      " 5\n"
     ]
    },
    {
     "name": "stdout",
     "output_type": "stream",
     "text": [
      "    1 \n",
      "   1 1 \n",
      "  1 2 1 \n",
      " 1 3 3 1 \n",
      "1 4 6 4 1 \n"
     ]
    }
   ],
   "source": [
    "n = int(input())\n",
    "for i in range(n):\n",
    "    value = 1\n",
    "    for j in range(n - i - 1):\n",
    "        print(\" \", end=\"\")\n",
    "    for j in range(i + 1):\n",
    "        print(value, end=\" \")\n",
    "        value = value * (i - j) // (j + 1)\n",
    "    print()"
   ]
  },
  {
   "cell_type": "code",
   "execution_count": null,
   "id": "4d9f6f32-05c0-4f34-87ff-b0e54b6dc375",
   "metadata": {},
   "outputs": [],
   "source": []
  }
 ],
 "metadata": {
  "kernelspec": {
   "display_name": "Python 3 (ipykernel)",
   "language": "python",
   "name": "python3"
  },
  "language_info": {
   "codemirror_mode": {
    "name": "ipython",
    "version": 3
   },
   "file_extension": ".py",
   "mimetype": "text/x-python",
   "name": "python",
   "nbconvert_exporter": "python",
   "pygments_lexer": "ipython3",
   "version": "3.12.4"
  }
 },
 "nbformat": 4,
 "nbformat_minor": 5
}
