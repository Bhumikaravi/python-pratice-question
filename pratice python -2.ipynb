{
 "cells": [
  {
   "cell_type": "code",
   "execution_count": 1,
   "id": "7da48fda-2ae2-4ee4-8dc8-d1e4126eb4e4",
   "metadata": {},
   "outputs": [
    {
     "name": "stdin",
     "output_type": "stream",
     "text": [
      " 2\n",
      " 4\n",
      " 5\n"
     ]
    },
    {
     "name": "stdout",
     "output_type": "stream",
     "text": [
      "c is greatest number\n"
     ]
    }
   ],
   "source": [
    "a=int(input())\n",
    "b=int(input())\n",
    "c=int(input())\n",
    "if a>b:\n",
    "    print(\"a is greatest number\")\n",
    "elif b>c:\n",
    "    print(\"b is greatest number\")\n",
    "else:\n",
    "    print(\"c is greatest number\")"
   ]
  },
  {
   "cell_type": "code",
   "execution_count": 2,
   "id": "9d823880-8713-4707-aefc-6bf4b4fe5b03",
   "metadata": {},
   "outputs": [
    {
     "name": "stdin",
     "output_type": "stream",
     "text": [
      " 5\n",
      " 7\n",
      " 8\n"
     ]
    },
    {
     "name": "stdout",
     "output_type": "stream",
     "text": [
      "b is greatest number 7\n"
     ]
    }
   ],
   "source": [
    "a=int(input())\n",
    "b=int(input())\n",
    "c=int(input())\n",
    "if a>b:\n",
    "    print(\"a is greatest number\",a)\n",
    "elif c<a:\n",
    "    print(\"c is greatest number\",c)\n",
    "else:\n",
    "    print(\"b is greatest number\",b)"
   ]
  },
  {
   "cell_type": "code",
   "execution_count": 6,
   "id": "900fc170-4efe-40ba-861e-3b8fbba6b7d0",
   "metadata": {},
   "outputs": [
    {
     "name": "stdin",
     "output_type": "stream",
     "text": [
      "enter a number: 56\n",
      "enter a number: 7\n",
      "enter a number: 8\n",
      "enter a number: 9\n"
     ]
    },
    {
     "name": "stdout",
     "output_type": "stream",
     "text": [
      "b is the smallest\n"
     ]
    }
   ],
   "source": [
    "a=int(input(\"enter a number:\"))\n",
    "b=int(input(\"enter a number:\"))\n",
    "c=int(input(\"enter a number:\"))\n",
    "d=int(input(\"enter a number:\"))\n",
    "\n",
    "if a<b\n",
    "   print(\"a is the smallest\")\n",
    "elif c>a:\n",
    "    print(\"c is the  smallest\")\n",
    "elif b<c:\n",
    "    print(\"b is the smallest\")\n",
    "else:\n",
    "    print(\"d is the smallest\")"
   ]
  },
  {
   "cell_type": "code",
   "execution_count": 1,
   "id": "617fb9a9-4294-40a9-bf3d-683ea0a86477",
   "metadata": {},
   "outputs": [
    {
     "name": "stdin",
     "output_type": "stream",
     "text": [
      "enter the number -90\n"
     ]
    },
    {
     "name": "stdout",
     "output_type": "stream",
     "text": [
      "negative\n"
     ]
    }
   ],
   "source": [
    "a=int(input(\"enter the number\"))\n",
    "if a>0:\n",
    "    print(\"postive\")\n",
    "else:\n",
    "    print(\"negative\")\n",
    "\n",
    "   "
   ]
  },
  {
   "cell_type": "code",
   "execution_count": 7,
   "id": "6e2195f0-be7c-4c59-8d1b-bbc773fbdc54",
   "metadata": {},
   "outputs": [
    {
     "name": "stdin",
     "output_type": "stream",
     "text": [
      "enter the year: 2100\n"
     ]
    },
    {
     "name": "stdout",
     "output_type": "stream",
     "text": [
      "its not leap year!!\n"
     ]
    }
   ],
   "source": [
    "a=int(input(\"enter the year:\"))\n",
    "if a%400==0 or a%100!=0 and a%4==0:\n",
    "    print(\"its a leap year!!\")\n",
    "else:\n",
    "    print(\"its not leap year!!\")\n",
    "          "
   ]
  },
  {
   "cell_type": "code",
   "execution_count": 4,
   "id": "46cfbba0-60b7-4a2d-a883-44468af12b6d",
   "metadata": {},
   "outputs": [
    {
     "name": "stdin",
     "output_type": "stream",
     "text": [
      "enter the number 25\n"
     ]
    },
    {
     "name": "stdout",
     "output_type": "stream",
     "text": [
      "yes\n"
     ]
    }
   ],
   "source": [
    "import math\n",
    "num=int(input(\"enter the number\"))\n",
    "sqrt_num=math.sqrt(num)\n",
    "if sqrt_num.is_integer():\n",
    "    print(\"yes\")\n",
    "else:\n",
    "    print(\"no\")\n"
   ]
  },
  {
   "cell_type": "code",
   "execution_count": 15,
   "id": "7773e404-a0a5-4576-b773-98b11702642c",
   "metadata": {},
   "outputs": [
    {
     "name": "stdin",
     "output_type": "stream",
     "text": [
      " 5\n"
     ]
    },
    {
     "name": "stdout",
     "output_type": "stream",
     "text": [
      "Not an alphabet\n"
     ]
    }
   ],
   "source": [
    "ch = input().lower()\n",
    "if ch in 'aeiou':\n",
    "    print(\"Vowel\")\n",
    "elif ch.isalpha():\n",
    "    print(\"Consonant\")\n",
    "else:\n",
    "    print(\"Not an alphabet\")"
   ]
  },
  {
   "cell_type": "code",
   "execution_count": 4,
   "id": "24945d58-321c-42d8-954b-147fd19d79a6",
   "metadata": {},
   "outputs": [
    {
     "name": "stdin",
     "output_type": "stream",
     "text": [
      "enter the 1st number: 4\n",
      "enter the 2nd number: 0\n",
      "enter the 3rd number: 9\n",
      "enter the 4th number: 8\n"
     ]
    },
    {
     "name": "stdout",
     "output_type": "stream",
     "text": [
      "The smallest number is: 0.0\n"
     ]
    }
   ],
   "source": [
    "num1=float(input(\"enter the 1st number:\"))\n",
    "num2=float(input(\"enter the 2nd number:\"))\n",
    "num3=float(input(\"enter the 3rd number:\"))\n",
    "num4=float(input(\"enter the 4th number:\"))\n",
    "smallest=num1\n",
    "if num2 < smallest:\n",
    "    smallest = num2\n",
    "if num3 < smallest:\n",
    "    smallest = num3\n",
    "if num4 < smallest:\n",
    "    smallest = num4\n",
    "print(\"The smallest number is:\",smallest)"
   ]
  },
  {
   "cell_type": "code",
   "execution_count": 5,
   "id": "02d6b09b-cf35-4c7a-8f93-0611294cb8b3",
   "metadata": {},
   "outputs": [
    {
     "name": "stdin",
     "output_type": "stream",
     "text": [
      "enter the 1st number: 12\n",
      "enter the 2nd number: 09\n",
      "enter the 3rd number: 56\n",
      "enter the 4th number: 89\n"
     ]
    },
    {
     "name": "stdout",
     "output_type": "stream",
     "text": [
      "smallest number: 9.0\n"
     ]
    }
   ],
   "source": [
    "num1=float(input(\"enter the 1st number:\"))\n",
    "num2=float(input(\"enter the 2nd number:\"))\n",
    "num3=float(input(\"enter the 3rd number:\"))\n",
    "num4=float(input(\"enter the 4th number:\"))\n",
    "num=[num1,num2,num3,num4]\n",
    "num.sort()\n",
    "print(\"smallest number:\",num[0])"
   ]
  },
  {
   "cell_type": "code",
   "execution_count": 13,
   "id": "84bd35e8-be15-4459-91c4-1103194277e6",
   "metadata": {},
   "outputs": [
    {
     "name": "stdin",
     "output_type": "stream",
     "text": [
      "enter the x: 0\n",
      "enter the y: 0\n"
     ]
    },
    {
     "name": "stdout",
     "output_type": "stream",
     "text": [
      "origin\n"
     ]
    }
   ],
   "source": [
    "x=int(input(\"enter the x:\"))\n",
    "y=int(input(\"enter the y:\"))\n",
    "if x==0 and y==0:\n",
    "    print(\"origin\")\n",
    "elif x>0 and y>0:\n",
    "    print(\"1st quadrant\")\n",
    "elif x<0 and y>0:\n",
    "    print(\"2nd quadrant\")\n",
    "elif x<0 and y<0:\n",
    "    print(\"3rd quadrant\")\n",
    "elif x>0 and y<0:\n",
    "    print(\"4th quadrant\")\n",
    "elif x==0 and y>0:\n",
    "    print(\"y is on positive axis\")\n",
    "elif x==0 and y<0:\n",
    "    print(\"y is on negative axis\")\n",
    "elif y==0 and x>0:\n",
    "    print(\"x is on positive axis\")\n",
    "elif y==0 and x<0:\n",
    "    print(\"x is on negative axis\")"
   ]
  },
  {
   "cell_type": "code",
   "execution_count": 1,
   "id": "d0fd739f-767f-4a96-b2cf-c86558aca2bb",
   "metadata": {},
   "outputs": [
    {
     "name": "stdout",
     "output_type": "stream",
     "text": [
      "19.53\n"
     ]
    }
   ],
   "source": [
    "#ppt 3\n",
    "#question 3\n",
    "weight = 50\n",
    "height = 1.6\n",
    "bmi = weight / (height ** 2)\n",
    "print(round(bmi, 2))"
   ]
  },
  {
   "cell_type": "code",
   "execution_count": 2,
   "id": "249c715c-49b7-45d5-b701-e48aa31f1f1f",
   "metadata": {},
   "outputs": [
    {
     "name": "stdout",
     "output_type": "stream",
     "text": [
      "1 1 1\n"
     ]
    }
   ],
   "source": [
    "#ppt 3\n",
    "#question 7\n",
    "days = 373\n",
    "years = days // 365\n",
    "weeks = (days % 365) // 7\n",
    "days = (days % 365) % 7\n",
    "print(years, weeks, days)"
   ]
  },
  {
   "cell_type": "code",
   "execution_count": 3,
   "id": "0770eda3-e2d1-46bb-84ea-158ef8ee89fb",
   "metadata": {},
   "outputs": [
    {
     "name": "stdout",
     "output_type": "stream",
     "text": [
      "654\n"
     ]
    }
   ],
   "source": [
    "#ppt 3\n",
    "#question 8\n",
    "num = 456\n",
    "reversed_num = int(str(num)[::-1])\n",
    "print(reversed_num)"
   ]
  },
  {
   "cell_type": "code",
   "execution_count": null,
   "id": "0de93ca5-2a72-4d11-b748-b800578560ba",
   "metadata": {},
   "outputs": [],
   "source": []
  }
 ],
 "metadata": {
  "kernelspec": {
   "display_name": "Python 3 (ipykernel)",
   "language": "python",
   "name": "python3"
  },
  "language_info": {
   "codemirror_mode": {
    "name": "ipython",
    "version": 3
   },
   "file_extension": ".py",
   "mimetype": "text/x-python",
   "name": "python",
   "nbconvert_exporter": "python",
   "pygments_lexer": "ipython3",
   "version": "3.12.4"
  }
 },
 "nbformat": 4,
 "nbformat_minor": 5
}
