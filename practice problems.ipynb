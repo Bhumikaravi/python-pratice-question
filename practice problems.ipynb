{
 "cells": [
  {
   "cell_type": "code",
   "execution_count": 11,
   "id": "90b24905-2450-47bb-9b90-889be74739ca",
   "metadata": {},
   "outputs": [
    {
     "name": "stdin",
     "output_type": "stream",
     "text": [
      "enter the number 0\n"
     ]
    },
    {
     "name": "stdout",
     "output_type": "stream",
     "text": [
      "1\n"
     ]
    }
   ],
   "source": [
    "num=int(input('enter the number'))\n",
    "fact=1\n",
    "for i in range(1,num+1):\n",
    "    fact=fact*i\n",
    "print(fact)\\8\n",
    "        "
   ]
  },
  {
   "cell_type": "code",
   "execution_count": 4,
   "id": "9336ee29-ec69-43de-ba53-2251bc42a1b8",
   "metadata": {},
   "outputs": [
    {
     "name": "stdout",
     "output_type": "stream",
     "text": [
      "9\n",
      "7\n"
     ]
    }
   ],
   "source": [
    "a=0\n",
    "c=0\n",
    "s=\"Mahendren-6066681\"\n",
    "for i in s:\n",
    "    if i.isalpha():\n",
    "        a+=1\n",
    "    elif i.isdigit():\n",
    "        c+=1\n",
    "print(a)\n",
    "print(c)\n",
    "\n"
   ]
  },
  {
   "cell_type": "code",
   "execution_count": 8,
   "id": "702b63b2-3037-47d4-be44-0ab94d28627e",
   "metadata": {},
   "outputs": [
    {
     "name": "stdout",
     "output_type": "stream",
     "text": [
      "Odd numbers\n",
      "1\n",
      "3\n",
      "5\n",
      "7\n",
      "9\n",
      "11\n",
      "13\n",
      "15\n",
      "17\n",
      "19\n",
      "21\n",
      "23\n",
      "25\n"
     ]
    }
   ],
   "source": [
    "print('Odd numbers')\n",
    "for i in range(1,27):\n",
    "    if i%2==0:\n",
    "       odd=i-1\n",
    "       print(f\"{odd}\")  #format output for alignment!!"
   ]
  },
  {
   "cell_type": "code",
   "execution_count": 14,
   "id": "154d01e5-48a1-4446-bd8d-bc2c470c33d7",
   "metadata": {},
   "outputs": [
    {
     "name": "stdin",
     "output_type": "stream",
     "text": [
      "enter the number: 4\n"
     ]
    },
    {
     "name": "stdout",
     "output_type": "stream",
     "text": [
      "multiplication table of  4\n",
      "4 x 1 = 4\n",
      "4 x 2 = 8\n",
      "4 x 3 = 12\n",
      "4 x 4 = 16\n",
      "4 x 5 = 20\n",
      "4 x 6 = 24\n",
      "4 x 7 = 28\n",
      "4 x 8 = 32\n",
      "4 x 9 = 36\n",
      "4 x 10 = 40\n"
     ]
    }
   ],
   "source": [
    "num=int(input(\"enter the number:\"))\n",
    "print(\"multiplication table of \",num)\n",
    "for i in range(1,11):\n",
    "        print(num,'x',i,'=',num*i)\n",
    "        "
   ]
  },
  {
   "cell_type": "code",
   "execution_count": 17,
   "id": "e05a8949-c6f0-4b24-b3ba-bfb6debb07d9",
   "metadata": {},
   "outputs": [
    {
     "name": "stdout",
     "output_type": "stream",
     "text": [
      "palindrome string\n"
     ]
    }
   ],
   "source": [
    "str=\"Madam\"\n",
    "str=str.lower()\n",
    "str1=reversed(str)\n",
    "if list(str)==list(str1):\n",
    "   print(\"palindrome string\")\n",
    "else:\n",
    "   print(\"not a palindrome string\")"
   ]
  },
  {
   "cell_type": "code",
   "execution_count": 1,
   "id": "c6cfdd33-7018-4986-a364-444f70a01f69",
   "metadata": {},
   "outputs": [
    {
     "name": "stdin",
     "output_type": "stream",
     "text": [
      "enter a 1st number 3\n",
      "enter a 2nd number 6\n",
      "enter a 3rd number 8\n"
     ]
    },
    {
     "name": "stdout",
     "output_type": "stream",
     "text": [
      "6\n",
      "the median is: (3, 6, 8)\n"
     ]
    }
   ],
   "source": [
    "a=int(input('enter a 1st number'))\n",
    "b=int(input('enter a 2nd number'))\n",
    "c=int(input('enter a 3rd number'))\n",
    "median=(a,b,c)\n",
    "if (a>b and a<c) or (a<b and a>c):\n",
    "    print(a)\n",
    "elif (b>a and b<c) or (b<a and b>c):\n",
    "    print(b)\n",
    "else:\n",
    "    print(c)\n",
    "print('the median is:',median)"
   ]
  },
  {
   "cell_type": "code",
   "execution_count": 4,
   "id": "a6c49694-d20c-40e1-9fe0-51dd41f3740d",
   "metadata": {},
   "outputs": [
    {
     "name": "stdout",
     "output_type": "stream",
     "text": [
      "loop skips\n"
     ]
    }
   ],
   "source": [
    "for index in range(50,30,-3):\n",
    "    if index==50:\n",
    "        print(\"loop skips\")\n",
    "        continue\n",
    "        print(index,end=' ')\n",
    "        print(index)"
   ]
  },
  {
   "cell_type": "code",
   "execution_count": null,
   "id": "fddc9526-5b46-4ad1-941a-2e108640267b",
   "metadata": {},
   "outputs": [],
   "source": []
  }
 ],
 "metadata": {
  "kernelspec": {
   "display_name": "Python 3 (ipykernel)",
   "language": "python",
   "name": "python3"
  },
  "language_info": {
   "codemirror_mode": {
    "name": "ipython",
    "version": 3
   },
   "file_extension": ".py",
   "mimetype": "text/x-python",
   "name": "python",
   "nbconvert_exporter": "python",
   "pygments_lexer": "ipython3",
   "version": "3.12.4"
  }
 },
 "nbformat": 4,
 "nbformat_minor": 5
}
